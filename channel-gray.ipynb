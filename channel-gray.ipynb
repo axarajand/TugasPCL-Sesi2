import numpy as np
import imageio
import matplotlib.pyplot as plt

# Membaca citra daun pepaya
image = imageio.imread('daun_pepaya.jpg')  # Ganti dengan gambar yang sesuai
grayscale_image = np.dot(image[..., :3], [0.2989, 0.5870, 0.1140])  # Konversi ke grayscale

# Menampilkan gambar grayscale
plt.imshow(grayscale_image, cmap='gray')
plt.title('Warna Grayscale - Daun Pepaya')
plt.axis('off')
plt.show()

# Membaca citra singkong
image = imageio.imread('daun_singkong.jpg')  # Ganti dengan gambar yang sesuai
grayscale_image = np.dot(image[..., :3], [0.2989, 0.5870, 0.1140])  # Konversi ke grayscale

# Menampilkan gambar grayscale
plt.imshow(grayscale_image, cmap='gray')
plt.title('Warna Grayscale - Singkong')
plt.axis('off')
plt.show()

# Membaca citra kenikir
image = imageio.imread('daun_kenikir.jpg')  # Ganti dengan gambar yang sesuai
grayscale_image = np.dot(image[..., :3], [0.2989, 0.5870, 0.1140])  # Konversi ke grayscale

# Menampilkan gambar grayscale
plt.imshow(grayscale_image, cmap='gray')
plt.title('Warna Grayscale - Kenikir')
plt.axis('off')
plt.show()
