import numpy as np
import imageio
import matplotlib.pyplot as plt

# Membaca citra daun pepaya
image = imageio.imread('daun_pepaya.jpg')  # Ganti dengan gambar yang sesuai
grayscale_image = np.dot(image[..., :3], [0.2989, 0.5870, 0.1140])  # Konversi ke grayscale
binary_image = grayscale_image > 128  # Thresholding
binary_image = binary_image.astype(np.uint8) * 255  # Mengubah True/False menjadi 255/0

# Menampilkan gambar biner
plt.imshow(binary_image, cmap='gray')
plt.title('Threshold (Biner) - Daun Pepaya')
plt.axis('off')
plt.show()

# Membaca citra singkong
image = imageio.imread('daun_singkong.jpg')  # Ganti dengan gambar yang sesuai
grayscale_image = np.dot(image[..., :3], [0.2989, 0.5870, 0.1140])  # Konversi ke grayscale
binary_image = grayscale_image > 128  # Thresholding
binary_image = binary_image.astype(np.uint8) * 255  # Mengubah True/False menjadi 255/0

# Menampilkan gambar biner
plt.imshow(binary_image, cmap='gray')
plt.title('Threshold (Biner) - Singkong')
plt.axis('off')
plt.show()

# Membaca citra kenikir
image = imageio.imread('daun_kenikir.jpg')  # Ganti dengan gambar yang sesuai
grayscale_image = np.dot(image[..., :3], [0.2989, 0.5870, 0.1140])  # Konversi ke grayscale
binary_image = grayscale_image > 128  # Thresholding
binary_image = binary_image.astype(np.uint8) * 255  # Mengubah True/False menjadi 255/0

# Menampilkan gambar biner
plt.imshow(binary_image, cmap='gray')
plt.title('Threshold (Biner) - Kenikir')
plt.axis('off')
plt.show()
