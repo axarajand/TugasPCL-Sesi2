import imageio.v2 as imageio  # Menggunakan versi v2 untuk menghindari deprecation warning
import numpy as np
from skimage import exposure
import matplotlib.pyplot as plt

# Membaca citra menggunakan imageio dengan mode grayscale
image = imageio.imread('https://pemrogramanmatlab.files.wordpress.com/2015/11/pengolahan-citra-digital.jpg?w=1576', mode='F')

# Ekualisasi histogram menggunakan skimage
equalized_image = exposure.equalize_hist(image)

# Menampilkan hasil
plt.figure(figsize=(12, 6))
plt.subplot(1, 2, 1)
plt.imshow(image, cmap='gray')
plt.title('Citra Awal')

plt.subplot(1, 2, 2)
plt.imshow(equalized_image, cmap='gray')
plt.title('Citra Setelah Ekualisasi Histogram')

plt.show()
