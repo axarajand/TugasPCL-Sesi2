import numpy as np
import imageio
import matplotlib.pyplot as plt

# Membaca citra daun pepaya
image = imageio.imread('daun_pepaya.jpg')  # Ganti dengan gambar yang sesuai
blue_channel = image[:, :, 2]

# Menampilkan Channel B
plt.imshow(blue_channel, cmap='Blues')
plt.title('Channel Warna B (Blue) - Daun Pepaya')
plt.axis('off')
plt.show()

# Membaca citra singkong
image = imageio.imread('daun_singkong.jpg')  # Ganti dengan gambar yang sesuai
blue_channel = image[:, :, 2]

# Menampilkan Channel B
plt.imshow(blue_channel, cmap='Blues')
plt.title('Channel Warna B (Blue) - Singkong')
plt.axis('off')
plt.show()

# Membaca citra kenikir
image = imageio.imread('daun_kenikir.jpg')  # Ganti dengan gambar yang sesuai
blue_channel = image[:, :, 2]

# Menampilkan Channel B
plt.imshow(blue_channel, cmap='Blues')
plt.title('Channel Warna B (Blue) - Kenikir')
plt.axis('off')
plt.show()
