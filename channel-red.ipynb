import numpy as np
import imageio
import matplotlib.pyplot as plt

# Membaca citra daun pepaya
image = imageio.imread('daun_pepaya.jpg')  # Ganti dengan gambar yang sesuai
red_channel = image[:, :, 0]

# Menampilkan Channel R
plt.imshow(red_channel, cmap='Reds')
plt.title('Channel Warna R (Red) - Daun Pepaya')
plt.axis('off')
plt.show()

# Membaca citra singkong
image = imageio.imread('daun_singkong.jpg')  # Ganti dengan gambar yang sesuai
red_channel = image[:, :, 0]

# Menampilkan Channel R
plt.imshow(red_channel, cmap='Reds')
plt.title('Channel Warna R (Red) - Singkong')
plt.axis('off')
plt.show()

# Membaca citra kenikir
image = imageio.imread('daun_kenikir.jpg')  # Ganti dengan gambar yang sesuai
red_channel = image[:, :, 0]

# Menampilkan Channel R
plt.imshow(red_channel, cmap='Reds')
plt.title('Channel Warna R (Red) - Kenikir')
plt.axis('off')
plt.show()
